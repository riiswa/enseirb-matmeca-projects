{
 "cells": [
  {
   "cell_type": "markdown",
   "metadata": {},
   "source": [
    "# Projet R - Analyse des données du naufrage du Titanic - Waris RADJI"
   ]
  },
  {
   "cell_type": "markdown",
   "metadata": {
    "toc": true
   },
   "source": [
    "<h1>Table of Contents<span class=\"tocSkip\"></span></h1>\n",
    "<div class=\"toc\"><ul class=\"toc-item\"><li><span><a href=\"#Énoncé\" data-toc-modified-id=\"Énoncé-1\">Énoncé</a></span></li><li><span><a href=\"#Bibliothèque-nécéssaire-au-projet\" data-toc-modified-id=\"Bibliothèque-nécéssaire-au-projet-2\">Bibliothèque nécéssaire au projet</a></span></li><li><span><a href=\"#Chargement-des-données\" data-toc-modified-id=\"Chargement-des-données-3\">Chargement des données</a></span></li><li><span><a href=\"#Exploration-des-données\" data-toc-modified-id=\"Exploration-des-données-4\">Exploration des données</a></span><ul class=\"toc-item\"><li><span><a href=\"#Survivors-repartion-by-sex\" data-toc-modified-id=\"Survivors-repartion-by-sex-4.1\">Survivors repartion by sex</a></span></li><li><span><a href=\"#Survivors-repartion-by-age\" data-toc-modified-id=\"Survivors-repartion-by-age-4.2\">Survivors repartion by age</a></span></li><li><span><a href=\"#Survivors-repartion-by-pclass\" data-toc-modified-id=\"Survivors-repartion-by-pclass-4.3\">Survivors repartion by pclass</a></span></li><li><span><a href=\"#Survivors-repartion-by-embarkation\" data-toc-modified-id=\"Survivors-repartion-by-embarkation-4.4\">Survivors repartion by embarkation</a></span></li><li><span><a href=\"#Survivors-repartion-by-fare\" data-toc-modified-id=\"Survivors-repartion-by-fare-4.5\">Survivors repartion by fare</a></span></li></ul></li><li><span><a href=\"#I---La-constitution-de-l'échantillon-aléatoire\" data-toc-modified-id=\"I---La-constitution-de-l'échantillon-aléatoire-5\">I - La constitution de l'échantillon aléatoire</a></span><ul class=\"toc-item\"><li><span><a href=\"#Les-valeurs-manquantes\" data-toc-modified-id=\"Les-valeurs-manquantes-5.1\">Les valeurs manquantes</a></span><ul class=\"toc-item\"><li><span><a href=\"#Age\" data-toc-modified-id=\"Age-5.1.1\">Age</a></span></li><li><span><a href=\"#Fare-&amp;-Embarked\" data-toc-modified-id=\"Fare-&amp;-Embarked-5.1.2\">Fare &amp; Embarked</a></span></li><li><span><a href=\"#Cabin\" data-toc-modified-id=\"Cabin-5.1.3\">Cabin</a></span></li></ul></li><li><span><a href=\"#L'échantillon-aléatoire\" data-toc-modified-id=\"L'échantillon-aléatoire-5.2\">L'échantillon aléatoire</a></span></li></ul></li><li><span><a href=\"#II---Transformation-en-tableau-disjonctif-complet\" data-toc-modified-id=\"II---Transformation-en-tableau-disjonctif-complet-6\">II - Transformation en tableau disjonctif complet</a></span></li><li><span><a href=\"#III---Construction-du-tableau-de-Burt-et-poids-des-différentes-catégories\" data-toc-modified-id=\"III---Construction-du-tableau-de-Burt-et-poids-des-différentes-catégories-7\">III - Construction du tableau de Burt et poids des différentes catégories</a></span></li><li><span><a href=\"#IIII---Réalisation-d’une-Analyse-factorielle-des-correspondances-(CA)-sur-le-tableau-de-Burt\" data-toc-modified-id=\"IIII---Réalisation-d’une-Analyse-factorielle-des-correspondances-(CA)-sur-le-tableau-de-Burt-8\">IIII - Réalisation d’une Analyse factorielle des correspondances (CA) sur le tableau de Burt</a></span><ul class=\"toc-item\"><li><span><a href=\"#CA-sans-les-variables-survivant/non-survivant\" data-toc-modified-id=\"CA-sans-les-variables-survivant/non-survivant-8.1\">CA sans les variables survivant/non-survivant</a></span></li><li><span><a href=\"#CA-avec-les-variables-survivant/non-survivant-en-variables-supplémentaires\" data-toc-modified-id=\"CA-avec-les-variables-survivant/non-survivant-en-variables-supplémentaires-8.2\">CA avec les variables survivant/non survivant en variables supplémentaires</a></span></li></ul></li></ul></div>"
   ]
  },
  {
   "cell_type": "markdown",
   "metadata": {},
   "source": [
    "## Énoncé\n",
    "\n",
    "![The Sinking of the RMS Titanic (1912)](https://upload.wikimedia.org/wikipedia/commons/6/6e/St%C3%B6wer_Titanic.jpg)\n",
    "\n",
    "Dans ce projet, vous serez amenés à analyser les données du naufrage du Titanic (1912). Vous utiliserez les données de la compétition de machine learning Titanic : Machine Learning from Disaster de Kaggle, une plateforme web organisant des compétitions en science des données. La partie actuelle consiste en l’utilisation du logiciel R dans le cadre du module de traitement de l’information."
   ]
  },
  {
   "cell_type": "markdown",
   "metadata": {},
   "source": [
    "## Bibliothèque nécéssaire au projet"
   ]
  },
  {
   "cell_type": "code",
   "execution_count": 3,
   "metadata": {},
   "outputs": [
    {
     "name": "stdout",
     "output_type": "stream",
     "text": [
      "package 'readxl' successfully unpacked and MD5 sums checked\n",
      "\n",
      "The downloaded binary packages are in\n",
      "\tC:\\Users\\Waris\\AppData\\Local\\Temp\\Rtmp4w9HZQ\\downloaded_packages\n"
     ]
    },
    {
     "name": "stderr",
     "output_type": "stream",
     "text": [
      "Warning message:\n",
      "\"package 'readxl' was built under R version 3.6.3\""
     ]
    },
    {
     "name": "stdout",
     "output_type": "stream",
     "text": [
      "package 'ggplot2' successfully unpacked and MD5 sums checked\n",
      "\n",
      "The downloaded binary packages are in\n",
      "\tC:\\Users\\Waris\\AppData\\Local\\Temp\\Rtmp4w9HZQ\\downloaded_packages\n"
     ]
    },
    {
     "name": "stderr",
     "output_type": "stream",
     "text": [
      "Warning message:\n",
      "\"package 'ggplot2' was built under R version 3.6.3\""
     ]
    },
    {
     "name": "stdout",
     "output_type": "stream",
     "text": [
      "package 'dplyr' successfully unpacked and MD5 sums checked\n"
     ]
    },
    {
     "name": "stderr",
     "output_type": "stream",
     "text": [
      "Warning message:\n",
      "\"cannot remove prior installation of package 'dplyr'\"Warning message in file.copy(savedcopy, lib, recursive = TRUE):\n",
      "\"problème lors de la copie de C:\\Users\\Waris\\Anaconda3\\Lib\\R\\library\\00LOCK\\dplyr\\libs\\x64\\dplyr.dll vers C:\\Users\\Waris\\Anaconda3\\Lib\\R\\library\\dplyr\\libs\\x64\\dplyr.dll: Permission denied\"Warning message:\n",
      "\"restored 'dplyr'\""
     ]
    },
    {
     "name": "stdout",
     "output_type": "stream",
     "text": [
      "\n",
      "The downloaded binary packages are in\n",
      "\tC:\\Users\\Waris\\AppData\\Local\\Temp\\Rtmp4w9HZQ\\downloaded_packages\n"
     ]
    },
    {
     "name": "stderr",
     "output_type": "stream",
     "text": [
      "Warning message:\n",
      "\"package 'dplyr' was built under R version 3.6.3\"\n",
      "Attaching package: 'dplyr'\n",
      "\n",
      "The following objects are masked from 'package:stats':\n",
      "\n",
      "    filter, lag\n",
      "\n",
      "The following objects are masked from 'package:base':\n",
      "\n",
      "    intersect, setdiff, setequal, union\n",
      "\n"
     ]
    },
    {
     "name": "stdout",
     "output_type": "stream",
     "text": [
      "package 'tidyr' successfully unpacked and MD5 sums checked\n",
      "\n",
      "The downloaded binary packages are in\n",
      "\tC:\\Users\\Waris\\AppData\\Local\\Temp\\Rtmp4w9HZQ\\downloaded_packages\n"
     ]
    },
    {
     "name": "stderr",
     "output_type": "stream",
     "text": [
      "Warning message:\n",
      "\"package 'tidyr' was built under R version 3.6.3\""
     ]
    },
    {
     "name": "stdout",
     "output_type": "stream",
     "text": [
      "package 'patchwork' successfully unpacked and MD5 sums checked\n",
      "\n",
      "The downloaded binary packages are in\n",
      "\tC:\\Users\\Waris\\AppData\\Local\\Temp\\Rtmp4w9HZQ\\downloaded_packages\n"
     ]
    },
    {
     "name": "stderr",
     "output_type": "stream",
     "text": [
      "Warning message:\n",
      "\"package 'patchwork' was built under R version 3.6.3\""
     ]
    },
    {
     "name": "stdout",
     "output_type": "stream",
     "text": [
      "package 'reshape2' successfully unpacked and MD5 sums checked\n",
      "\n",
      "The downloaded binary packages are in\n",
      "\tC:\\Users\\Waris\\AppData\\Local\\Temp\\Rtmp4w9HZQ\\downloaded_packages\n"
     ]
    },
    {
     "name": "stderr",
     "output_type": "stream",
     "text": [
      "Warning message:\n",
      "\"package 'reshape2' was built under R version 3.6.3\"\n",
      "Attaching package: 'reshape2'\n",
      "\n",
      "The following object is masked from 'package:tidyr':\n",
      "\n",
      "    smiths\n",
      "\n"
     ]
    },
    {
     "name": "stdout",
     "output_type": "stream",
     "text": [
      "package 'corrplot' successfully unpacked and MD5 sums checked\n",
      "\n",
      "The downloaded binary packages are in\n",
      "\tC:\\Users\\Waris\\AppData\\Local\\Temp\\Rtmp4w9HZQ\\downloaded_packages\n"
     ]
    },
    {
     "name": "stderr",
     "output_type": "stream",
     "text": [
      "Warning message:\n",
      "\"package 'corrplot' was built under R version 3.6.3\"corrplot 0.84 loaded\n"
     ]
    },
    {
     "name": "stdout",
     "output_type": "stream",
     "text": [
      "package 'ggthemes' successfully unpacked and MD5 sums checked\n",
      "\n",
      "The downloaded binary packages are in\n",
      "\tC:\\Users\\Waris\\AppData\\Local\\Temp\\Rtmp4w9HZQ\\downloaded_packages\n"
     ]
    },
    {
     "name": "stderr",
     "output_type": "stream",
     "text": [
      "Warning message:\n",
      "\"package 'ggthemes' was built under R version 3.6.3\""
     ]
    },
    {
     "name": "stdout",
     "output_type": "stream",
     "text": [
      "package 'purrr' successfully unpacked and MD5 sums checked\n"
     ]
    },
    {
     "name": "stderr",
     "output_type": "stream",
     "text": [
      "Warning message:\n",
      "\"cannot remove prior installation of package 'purrr'\"Warning message in file.copy(savedcopy, lib, recursive = TRUE):\n",
      "\"problème lors de la copie de C:\\Users\\Waris\\Anaconda3\\Lib\\R\\library\\00LOCK\\purrr\\libs\\x64\\purrr.dll vers C:\\Users\\Waris\\Anaconda3\\Lib\\R\\library\\purrr\\libs\\x64\\purrr.dll: Permission denied\"Warning message:\n",
      "\"restored 'purrr'\""
     ]
    },
    {
     "name": "stdout",
     "output_type": "stream",
     "text": [
      "\n",
      "The downloaded binary packages are in\n",
      "\tC:\\Users\\Waris\\AppData\\Local\\Temp\\Rtmp4w9HZQ\\downloaded_packages\n"
     ]
    },
    {
     "name": "stderr",
     "output_type": "stream",
     "text": [
      "Warning message:\n",
      "\"package 'purrr' was built under R version 3.6.3\""
     ]
    },
    {
     "name": "stdout",
     "output_type": "stream",
     "text": [
      "package 'FactoMineR' successfully unpacked and MD5 sums checked\n",
      "package 'factoextra' successfully unpacked and MD5 sums checked\n",
      "\n",
      "The downloaded binary packages are in\n",
      "\tC:\\Users\\Waris\\AppData\\Local\\Temp\\Rtmp4w9HZQ\\downloaded_packages\n"
     ]
    },
    {
     "name": "stderr",
     "output_type": "stream",
     "text": [
      "Warning message:\n",
      "\"package 'FactoMineR' was built under R version 3.6.3\"Warning message:\n",
      "\"package 'factoextra' was built under R version 3.6.3\"Welcome! Want to learn more? See two factoextra-related books at https://goo.gl/ve3WBa\n"
     ]
    },
    {
     "name": "stdout",
     "output_type": "stream",
     "text": [
      "package 'visdat' successfully unpacked and MD5 sums checked\n",
      "\n",
      "The downloaded binary packages are in\n",
      "\tC:\\Users\\Waris\\AppData\\Local\\Temp\\Rtmp4w9HZQ\\downloaded_packages\n"
     ]
    },
    {
     "name": "stderr",
     "output_type": "stream",
     "text": [
      "Warning message:\n",
      "\"package 'visdat' was built under R version 3.6.3\""
     ]
    },
    {
     "name": "stdout",
     "output_type": "stream",
     "text": [
      "package 'cluster' successfully unpacked and MD5 sums checked\n"
     ]
    },
    {
     "name": "stderr",
     "output_type": "stream",
     "text": [
      "Warning message:\n",
      "\"cannot remove prior installation of package 'cluster'\"Warning message in file.copy(savedcopy, lib, recursive = TRUE):\n",
      "\"problème lors de la copie de C:\\Users\\Waris\\Anaconda3\\Lib\\R\\library\\00LOCK\\cluster\\libs\\x64\\cluster.dll vers C:\\Users\\Waris\\Anaconda3\\Lib\\R\\library\\cluster\\libs\\x64\\cluster.dll: Permission denied\"Warning message:\n",
      "\"restored 'cluster'\""
     ]
    },
    {
     "name": "stdout",
     "output_type": "stream",
     "text": [
      "\n",
      "The downloaded binary packages are in\n",
      "\tC:\\Users\\Waris\\AppData\\Local\\Temp\\Rtmp4w9HZQ\\downloaded_packages\n"
     ]
    },
    {
     "name": "stderr",
     "output_type": "stream",
     "text": [
      "Warning message:\n",
      "\"package 'cluster' was built under R version 3.6.3\""
     ]
    }
   ],
   "source": [
    "install.packages(\"readxl\")\n",
    "library(\"readxl\")\n",
    "install.packages(\"ggplot2\")\n",
    "library(\"ggplot2\")\n",
    "install.packages(\"dplyr\")\n",
    "library(dplyr)\n",
    "install.packages(\"tidyr\")\n",
    "library(tidyr)\n",
    "install.packages(\"patchwork\")\n",
    "library(patchwork)\n",
    "install.packages(\"reshape2\")\n",
    "library(reshape2)\n",
    "install.packages(\"corrplot\")\n",
    "library(corrplot)\n",
    "install.packages(\"ggthemes\") \n",
    "library(ggthemes)\n",
    "install.packages(\"purrr\") \n",
    "library(purrr)\n",
    "install.packages(c(\"FactoMineR\", \"factoextra\"))\n",
    "library(\"FactoMineR\")\n",
    "library(\"factoextra\")\n",
    "install.packages(\"visdat\")\n",
    "library(visdat)\n",
    "install.packages(\"cluster\")\n",
    "library(cluster)\n",
    "theme_set(theme_hc())"
   ]
  },
  {
   "cell_type": "markdown",
   "metadata": {},
   "source": [
    "## Chargement des données\n",
    "\n",
    "Avant de pouvoir analyser les données, il faut tout d'abord les chargées depuis le fichier xlsx (tableau de données excel) fournis."
   ]
  },
  {
   "cell_type": "code",
   "execution_count": 4,
   "metadata": {},
   "outputs": [
    {
     "name": "stderr",
     "output_type": "stream",
     "text": [
      "New names:\n",
      "* `` -> ...12\n",
      "* `` -> ...13\n",
      "* `` -> ...14\n"
     ]
    },
    {
     "name": "stdout",
     "output_type": "stream",
     "text": [
      "tibble [1,309 x 11] (S3: tbl_df/tbl/data.frame)\n",
      " $ pclass  : num [1:1309] 1 1 1 1 1 1 1 1 1 1 ...\n",
      " $ survived: num [1:1309] 1 1 0 0 0 1 1 0 1 0 ...\n",
      " $ name    : chr [1:1309] \"Allen, Miss. Elisabeth Walton\" \"Allison, Master. Hudson Trevor\" \"Allison, Miss. Helen Loraine\" \"Allison, Mr. Hudson Joshua Creighton\" ...\n",
      " $ sex     : chr [1:1309] \"female\" \"male\" \"female\" \"male\" ...\n",
      " $ age     : num [1:1309] 29 0.917 2 30 25 ...\n",
      " $ sibsp   : num [1:1309] 0 1 1 1 1 0 1 0 2 0 ...\n",
      " $ parch   : num [1:1309] 0 2 2 2 2 0 0 0 0 0 ...\n",
      " $ ticket  : chr [1:1309] \"24160\" \"113781\" \"113781\" \"113781\" ...\n",
      " $ fare    : num [1:1309] 211 152 152 152 152 ...\n",
      " $ cabin   : chr [1:1309] \"B5\" \"C22 C26\" \"C22 C26\" \"C22 C26\" ...\n",
      " $ embarked: chr [1:1309] \"S\" \"S\" \"S\" \"S\" ...\n"
     ]
    }
   ],
   "source": [
    "df <- read_excel(\"Liste_Titanic.xlsx\")\n",
    "df <-  df %>% select(0:11) #retirer colonnes de fin inutiles\n",
    "str(df)"
   ]
  },
  {
   "cell_type": "markdown",
   "metadata": {},
   "source": [
    "Il est ensuite facile de voir grâce à une visualisation, quels sont les différents types de données présents dans le dataset :"
   ]
  },
  {
   "cell_type": "code",
   "execution_count": 5,
   "metadata": {},
   "outputs": [
    {
     "data": {
      "image/png": "[encoded data removed]",
      "text/plain": [
       "plot without title"
      ]
     },
     "metadata": {},
     "output_type": "display_data"
    }
   ],
   "source": [
    "vis_dat(df)"
   ]
  },
  {
   "cell_type": "markdown",
   "metadata": {},
   "source": [
    "## Exploration des données\n",
    "\n",
    "Affichons un résumé de notre jeu de données avec le type des colonnes, et différentes statistiques pour les valeurs numériques :"
   ]
  },
  {
   "cell_type": "code",
   "execution_count": 6,
   "metadata": {},
   "outputs": [
    {
     "data": {
      "text/plain": [
       "     pclass         survived         name               sex           \n",
       " Min.   :1.000   Min.   :0.000   Length:1309        Length:1309       \n",
       " 1st Qu.:2.000   1st Qu.:0.000   Class :character   Class :character  \n",
       " Median :3.000   Median :0.000   Mode  :character   Mode  :character  \n",
       " Mean   :2.295   Mean   :0.382                                        \n",
       " 3rd Qu.:3.000   3rd Qu.:1.000                                        \n",
       " Max.   :3.000   Max.   :1.000                                        \n",
       "                                                                      \n",
       "      age              sibsp            parch          ticket         \n",
       " Min.   : 0.1667   Min.   :0.0000   Min.   :0.000   Length:1309       \n",
       " 1st Qu.:21.0000   1st Qu.:0.0000   1st Qu.:0.000   Class :character  \n",
       " Median :28.0000   Median :0.0000   Median :0.000   Mode  :character  \n",
       " Mean   :29.8811   Mean   :0.4989   Mean   :0.385                     \n",
       " 3rd Qu.:39.0000   3rd Qu.:1.0000   3rd Qu.:0.000                     \n",
       " Max.   :80.0000   Max.   :8.0000   Max.   :9.000                     \n",
       " NA's   :263                                                          \n",
       "      fare            cabin             embarked        \n",
       " Min.   :  0.000   Length:1309        Length:1309       \n",
       " 1st Qu.:  7.896   Class :character   Class :character  \n",
       " Median : 14.454   Mode  :character   Mode  :character  \n",
       " Mean   : 33.295                                        \n",
       " 3rd Qu.: 31.275                                        \n",
       " Max.   :512.329                                        \n",
       " NA's   :1                                              "
      ]
     },
     "metadata": {},
     "output_type": "display_data"
    }
   ],
   "source": [
    "summary(df)"
   ]
  },
  {
   "cell_type": "markdown",
   "metadata": {},
   "source": [
    "Avant de commencer à faire nos traitements sur les données bruts, nous allons d'abord les explorer grâce à des visualisations, afin d'avoir une meilleure idée globale de notre dataset et de pouvoir émettre des hypothèses."
   ]
  },
  {
   "cell_type": "markdown",
   "metadata": {},
   "source": [
    "### Survivors repartion by sex\n",
    "\n",
    "Nous pouvons tout d'abord remarquer, qu'il y a eu beaucoup plus de mort que de survivants. Il y a aussi plus d'hommes que de femmes. Environ 75 % des hommes sont morts alors que 30 % des femmes sont mortes. Nous pouvons facilement imaginer que les femmes ont dû à l'époque se faire évacuer en priorité."
   ]
  },
  {
   "cell_type": "code",
   "execution_count": 7,
   "metadata": {},
   "outputs": [
    {
     "data": {
      "image/png": "[encoded data removed]",
      "text/plain": [
       "plot without title"
      ]
     },
     "metadata": {},
     "output_type": "display_data"
    }
   ],
   "source": [
    "ggplot(df %>% count(survived, sex) %>% \n",
    "         mutate(pct=n/sum(n),               \n",
    "                ypos = cumsum(n) - 0.5*n),\n",
    "       aes(survived, n, fill=sex)) +\n",
    "  geom_bar(stat=\"identity\") +\n",
    "  ggtitle(\"Survivors repartion by sex\") "
   ]
  },
  {
   "cell_type": "markdown",
   "metadata": {},
   "source": [
    "### Survivors repartion by age\n",
    "\n",
    "La plus grande part des passagers a entre 20 et 40 ans, c'est aussi dans cette tranche d'âge que l'on trouve le plus de morts et de survivants :"
   ]
  },
  {
   "cell_type": "code",
   "execution_count": 8,
   "metadata": {},
   "outputs": [
    {
     "name": "stderr",
     "output_type": "stream",
     "text": [
      "Warning message:\n",
      "\"Removed 73 rows containing non-finite values (stat_density).\"Warning message:\n",
      "\"Removed 190 rows containing non-finite values (stat_density).\""
     ]
    },
    {
     "data": {
      "image/png": "[encoded data removed]",
      "text/plain": [
       "plot without title"
      ]
     },
     "metadata": {},
     "output_type": "display_data"
    }
   ],
   "source": [
    "ggplot() +\n",
    "geom_density(data=df %>% filter(survived == 1), aes(x=age, color=\"survived\")) +\n",
    "geom_density(data=df %>% filter(survived == 0), aes(x=age, color=\"dead\"))  +\n",
    "  ggtitle(\"Suvivors repartion by age\") "
   ]
  },
  {
   "cell_type": "markdown",
   "metadata": {},
   "source": [
    "### Survivors repartion by pclass\n",
    "\n",
    "La majorité des morts étaient présents en classe 3, c'est également en classe 3 qu'il y a le plus de passagers. Les classes représentent en quelque sorte le statut socio-économique d'un passager. Nous pouvons facilement imaginer que les plus aisés des passagers ont eu un plus gros support lors de l'évacuation, ce qui explique la raison pour laquelle une grosse partie des passagers de classe 1 ont survécu."
   ]
  },
  {
   "cell_type": "code",
   "execution_count": 9,
   "metadata": {},
   "outputs": [
    {
     "data": {
      "image/png": "[encoded data removed]",
      "text/plain": [
       "plot without title"
      ]
     },
     "metadata": {},
     "output_type": "display_data"
    }
   ],
   "source": [
    "ggplot(df %>% count(survived, pclass) %>% \n",
    "         mutate(pct=n/sum(n),               \n",
    "                ypos = cumsum(n) - 0.5*n),\n",
    "       aes(survived, n, fill=pclass)) +\n",
    "  geom_bar(stat=\"identity\") +\n",
    "  ggtitle(\"Suvivors repartion by pclass\") "
   ]
  },
  {
   "cell_type": "markdown",
   "metadata": {},
   "source": [
    "### Survivors repartion by embarkation\n",
    "\n",
    "Une grande partie des passagers viennent de l'embarcation  S, c'est aussi là où il y a la majorité de morts :"
   ]
  },
  {
   "cell_type": "code",
   "execution_count": 10,
   "metadata": {},
   "outputs": [
    {
     "data": {
      "image/png": "[encoded data removed]",
      "text/plain": [
       "plot without title"
      ]
     },
     "metadata": {},
     "output_type": "display_data"
    }
   ],
   "source": [
    "ggplot(df %>% count(survived, embarked) %>% \n",
    "         mutate(pct=n/sum(n),               \n",
    "                ypos = cumsum(n) - 0.5*n),\n",
    "       aes(survived, n, fill=embarked)) +\n",
    "  geom_bar(stat=\"identity\") +\n",
    "  ggtitle(\"Suvivors repartion by embarkation\") "
   ]
  },
  {
   "cell_type": "markdown",
   "metadata": {},
   "source": [
    "### Survivors repartion by fare\n",
    "\n",
    "La variable \"fare\" correspond au prix du billet. Ici, nous pouvons facilement confirmer notre observation précédente : les passagers les moins riches ont été beaucoup plus touchés par les décès :"
   ]
  },
  {
   "cell_type": "code",
   "execution_count": 11,
   "metadata": {},
   "outputs": [
    {
     "name": "stderr",
     "output_type": "stream",
     "text": [
      "Warning message:\n",
      "\"Removed 1 rows containing non-finite values (stat_density).\""
     ]
    },
    {
     "data": {
      "image/png": "[encoded data removed]",
      "text/plain": [
       "plot without title"
      ]
     },
     "metadata": {},
     "output_type": "display_data"
    }
   ],
   "source": [
    "ggplot() +\n",
    "geom_density(data=df %>% filter(survived == 1), aes(x=fare, color=\"survived\")) +\n",
    "geom_density(data=df %>% filter(survived == 0), aes(x=fare, color=\"dead\"))  +\n",
    "  ggtitle(\"Suvivors repartion by fare\") "
   ]
  },
  {
   "cell_type": "markdown",
   "metadata": {},
   "source": [
    "## I - La constitution de l'échantillon aléatoire"
   ]
  },
  {
   "cell_type": "markdown",
   "metadata": {},
   "source": [
    "### Les valeurs manquantes\n",
    "\n",
    "Avant d'extraire un échantillon du jeu de données, je vais d'abord gérer les valeurs manquantes qui peuvent erronées mes futures analyses.\n",
    "\n",
    "La liste des colonnes avec des valeurs manquantes est :"
   ]
  },
  {
   "cell_type": "code",
   "execution_count": 12,
   "metadata": {},
   "outputs": [
    {
     "name": "stderr",
     "output_type": "stream",
     "text": [
      "`summarise()` regrouping output by 'key' (override with `.groups` argument)\n"
     ]
    },
    {
     "data": {
      "text/html": [
       "<table>\n",
       "<thead><tr><th scope=col>key</th><th scope=col>num.missing</th></tr></thead>\n",
       "<tbody>\n",
       "\t<tr><td>cabin   </td><td>1014    </td></tr>\n",
       "\t<tr><td>age     </td><td> 263    </td></tr>\n",
       "\t<tr><td>embarked</td><td>   2    </td></tr>\n",
       "\t<tr><td>fare    </td><td>   1    </td></tr>\n",
       "</tbody>\n",
       "</table>\n"
      ],
      "text/latex": [
       "\\begin{tabular}{r|ll}\n",
       " key & num.missing\\\\\n",
       "\\hline\n",
       "\t cabin    & 1014    \\\\\n",
       "\t age      &  263    \\\\\n",
       "\t embarked &    2    \\\\\n",
       "\t fare     &    1    \\\\\n",
       "\\end{tabular}\n"
      ],
      "text/markdown": [
       "\n",
       "| key | num.missing |\n",
       "|---|---|\n",
       "| cabin    | 1014     |\n",
       "| age      |  263     |\n",
       "| embarked |    2     |\n",
       "| fare     |    1     |\n",
       "\n"
      ],
      "text/plain": [
       "  key      num.missing\n",
       "1 cabin    1014       \n",
       "2 age       263       \n",
       "3 embarked    2       \n",
       "4 fare        1       "
      ]
     },
     "metadata": {},
     "output_type": "display_data"
    }
   ],
   "source": [
    "missing.values <- df %>%\n",
    "    gather(key = \"key\", value = \"val\") %>%\n",
    "    mutate(is.missing = is.na(val)) %>%\n",
    "    group_by(key, is.missing) %>%\n",
    "    summarise(num.missing = n()) %>%\n",
    "    filter(is.missing==T) %>%\n",
    "    select(-is.missing) %>%\n",
    "    arrange(desc(num.missing)) \n",
    "missing.values"
   ]
  },
  {
   "cell_type": "code",
   "execution_count": 13,
   "metadata": {},
   "outputs": [
    {
     "data": {
      "image/png": "[encoded data removed]",
      "text/plain": [
       "plot without title"
      ]
     },
     "metadata": {},
     "output_type": "display_data"
    }
   ],
   "source": [
    "vis_miss(df)"
   ]
  },
  {
   "cell_type": "markdown",
   "metadata": {},
   "source": [
    "#### Age"
   ]
  },
  {
   "cell_type": "markdown",
   "metadata": {},
   "source": [
    "Comme nous l'avons vu précédemment (voir les graphiques), une très grande partie des passagers à son âge situé entre 20 et 40 ans. Il serait donc judicieux à mon avis de remplacer dans ce cas les valeurs manquantes par la médiane de l'âge, ce qui ne devrait pas énormément impacter nos résultats finaux."
   ]
  },
  {
   "cell_type": "code",
   "execution_count": 14,
   "metadata": {},
   "outputs": [
    {
     "name": "stdout",
     "output_type": "stream",
     "text": [
      "[1] \"The median is:\"\n",
      "[1] 28\n"
     ]
    }
   ],
   "source": [
    "Median <- median(df$age, na.rm = TRUE)\n",
    "print(\"The median is:\")\n",
    "print(Median)\n",
    "df$age[is.na(df$age)] <- Median"
   ]
  },
  {
   "cell_type": "markdown",
   "metadata": {},
   "source": [
    "#### Fare & Embarked"
   ]
  },
  {
   "cell_type": "markdown",
   "metadata": {},
   "source": [
    "Un nombre insignifiant de lignes ont pour valeurs aberrantes les données \"fare\" et \"embarked\", je décide donc de remplacer les \"fare\" indéfinies par une moyenne et \"embarked\" par la valeur la plus présente, car c'est une variable qualitative en considérant que l'impact sur nos analyses seras insignifiant."
   ]
  },
  {
   "cell_type": "code",
   "execution_count": 15,
   "metadata": {},
   "outputs": [
    {
     "name": "stdout",
     "output_type": "stream",
     "text": [
      "[1] \"The mean is:\"\n",
      "[1] 33.29548\n"
     ]
    }
   ],
   "source": [
    "Mean <- mean(df$fare, na.rm = TRUE)\n",
    "print(\"The mean is:\")\n",
    "print(Mean)\n",
    "df$fare[is.na(df$fare)] <- Mean"
   ]
  },
  {
   "cell_type": "code",
   "execution_count": 16,
   "metadata": {},
   "outputs": [
    {
     "name": "stdout",
     "output_type": "stream",
     "text": [
      "[1] \"L'embarquation la plus présente est:\"\n",
      "[1] \"S\"\n"
     ]
    }
   ],
   "source": [
    "MostPresentValue <- tail(names(sort(table(df$embarked))), 1)\n",
    "print(\"L'embarquation la plus présente est:\")\n",
    "print(MostPresentValue)\n",
    "df$embarked[is.na(df$embarked)] <- MostPresentValue"
   ]
  },
  {
   "cell_type": "markdown",
   "metadata": {},
   "source": [
    "#### Cabin"
   ]
  },
  {
   "cell_type": "markdown",
   "metadata": {},
   "source": [
    "Cabin à un nombre de valeurs manquantes tellement élevé qu'il vaut mieux supprimé cette colonne du jeu de données. Je ne pense pas que le nombre actuel de données présente pour cabin soit assez conséquent pour nous mener à de bons résultats"
   ]
  },
  {
   "cell_type": "code",
   "execution_count": 17,
   "metadata": {},
   "outputs": [],
   "source": [
    "df$cabin <- NULL "
   ]
  },
  {
   "cell_type": "markdown",
   "metadata": {},
   "source": [
    "Comme vous pouvez le voir ci-dessous, nous avons supprimé toutes les valeurs manquantes de notre jeu de données (output vide)."
   ]
  },
  {
   "cell_type": "code",
   "execution_count": 18,
   "metadata": {},
   "outputs": [
    {
     "data": {
      "image/png": "[encoded data removed]",
      "text/plain": [
       "plot without title"
      ]
     },
     "metadata": {},
     "output_type": "display_data"
    }
   ],
   "source": [
    "vis_miss(df)"
   ]
  },
  {
   "cell_type": "markdown",
   "metadata": {},
   "source": [
    "### L'échantillon aléatoire"
   ]
  },
  {
   "cell_type": "markdown",
   "metadata": {},
   "source": [
    "La procédure de constitution de l'échantillon aléatoire est utilisée pour estimer les performances des algorithmes d'apprentissage machine lorsqu'ils sont utilisés pour faire des prédictions sur des données non utilisées pour entraîner le modèle. Dans mon cas, j'ai décidé de découper le jeu de données en deux échantillons de 50%."
   ]
  },
  {
   "cell_type": "code",
   "execution_count": 19,
   "metadata": {},
   "outputs": [],
   "source": [
    "smp_size <- floor(0.50 * nrow(df))\n",
    "\n",
    "## set the seed to make your partition reproducible\n",
    "set.seed(123)\n",
    "train_ind <- sample(seq_len(nrow(df)), size = smp_size)\n",
    "\n",
    "train <- df[train_ind, ]\n",
    "test <- df[-train_ind, ]"
   ]
  },
  {
   "cell_type": "markdown",
   "metadata": {},
   "source": [
    "## II - Transformation en tableau disjonctif complet "
   ]
  },
  {
   "cell_type": "markdown",
   "metadata": {},
   "source": [
    "Un tableau disjonctif complet (TDC) est un type de représentation de données qualitatives utilisé en analyse des données. Dans ce tableau, une variable qualitative à $K$ modalités est remplacée par $K$ variables binaires, chacune correspondant à une des modalités.\n",
    "\n",
    "Pour avoir plus d’informations au niveau des résultats, je transforme le tableau initial en éclatant chacune des variables selon les modalités suivantes : \n",
    "- Classe : \n",
    "    - Classe 1, \n",
    "    - Classe 2, \n",
    "    - classe 3\n",
    "- Sexe : \n",
    "    - Féminin  \n",
    "    - masculin\n",
    "- Survivant, \n",
    "- Non survivant\n",
    "- âge : \n",
    "    - moins de 15 ans (enfants) ; \n",
    "    - jeune adulte (16 – 30), \n",
    "    - adulte (30, 50), \n",
    "    - personne âgée (+ de 50 ans)\n",
    "    \n",
    "Créons la fonction `completeDisjonctifTable`, qui nous permettras de créer notre tableau :"
   ]
  },
  {
   "cell_type": "code",
   "execution_count": 20,
   "metadata": {},
   "outputs": [],
   "source": [
    "isSurvived <- function(x) {\n",
    "    return(as.integer(x == 1))\n",
    "} \n",
    "\n",
    "isDied <- function(x) {\n",
    "    return(as.integer(!isSurvived(x)))\n",
    "}\n",
    "\n",
    "isMale <- function(x) {\n",
    "    return(as.integer(x == \"male\"))\n",
    "} \n",
    "\n",
    "isFemale <- function(x) {\n",
    "    return(as.integer(!isMale(x)))\n",
    "}\n",
    "\n",
    "isClass1 <- function(x) {\n",
    "    return(as.integer(x == 1))\n",
    "} \n",
    "\n",
    "isClass2 <- function(x) {\n",
    "    return(as.integer(x == 2))\n",
    "} \n",
    "\n",
    "isClass3 <- function(x) {\n",
    "    return(as.integer(x == 3))\n",
    "} \n",
    "\n",
    "isChild <- function(x) {\n",
    "    return(as.integer(x <= 15))\n",
    "} \n",
    "\n",
    "isYoungAdult <- function(x) {\n",
    "    return(as.integer(x > 15 && x <= 30))\n",
    "} \n",
    "\n",
    "isAdult <- function(x) {\n",
    "    return(as.integer(x > 30 && x <= 50))\n",
    "} \n",
    "\n",
    "isOld <- function(x) {\n",
    "    return(as.integer(x > 50))\n",
    "}\n",
    "\n",
    "completeDisjunctiveTable <- function(data) {\n",
    "    cdt <- data.frame(\n",
    "        male=sapply(data$sex, isMale),\n",
    "        female=sapply(data$sex, isFemale),\n",
    "        class1=sapply(data$pclass, isClass1),\n",
    "        class2=sapply(data$pclass, isClass2),\n",
    "        class3=sapply(data$pclass, isClass3),\n",
    "        child=sapply(data$age, isChild),\n",
    "        youngAdult=sapply(data$age, isYoungAdult),\n",
    "        adult=sapply(data$age, isAdult),\n",
    "        old=sapply(data$age, isOld),\n",
    "        survived=sapply(data$survived, isSurvived),\n",
    "        died=sapply(data$survived, isDied)\n",
    "    )\n",
    "    rownames(cdt) <- paste(seq.int(nrow(data)), data$name)\n",
    "    return(cdt)\n",
    "}"
   ]
  },
  {
   "cell_type": "markdown",
   "metadata": {},
   "source": [
    "Voici notre tableau disjonctif complet :"
   ]
  },
  {
   "cell_type": "code",
   "execution_count": 21,
   "metadata": {},
   "outputs": [
    {
     "data": {
      "text/html": [
       "<table>\n",
       "<thead><tr><th></th><th scope=col>male</th><th scope=col>female</th><th scope=col>class1</th><th scope=col>class2</th><th scope=col>class3</th><th scope=col>child</th><th scope=col>youngAdult</th><th scope=col>adult</th><th scope=col>old</th><th scope=col>survived</th><th scope=col>died</th></tr></thead>\n",
       "<tbody>\n",
       "\t<tr><th scope=row>1 Gale, Mr. Shadrach</th><td>1</td><td>0</td><td>0</td><td>1</td><td>0</td><td>0</td><td>0</td><td>1</td><td>0</td><td>0</td><td>1</td></tr>\n",
       "\t<tr><th scope=row>2 Jefferys, Mr. Clifford Thomas</th><td>1</td><td>0</td><td>0</td><td>1</td><td>0</td><td>0</td><td>1</td><td>0</td><td>0</td><td>0</td><td>1</td></tr>\n",
       "\t<tr><th scope=row>3 Kimball, Mrs. Edwin Nelson Jr (Gertrude Parsons)</th><td>0</td><td>1</td><td>1</td><td>0</td><td>0</td><td>0</td><td>0</td><td>1</td><td>0</td><td>1</td><td>0</td></tr>\n",
       "\t<tr><th scope=row>4 Pain, Dr. Alfred</th><td>1</td><td>0</td><td>0</td><td>1</td><td>0</td><td>0</td><td>1</td><td>0</td><td>0</td><td>0</td><td>1</td></tr>\n",
       "\t<tr><th scope=row>5 Maguire, Mr. John Edward</th><td>1</td><td>0</td><td>1</td><td>0</td><td>0</td><td>0</td><td>1</td><td>0</td><td>0</td><td>0</td><td>1</td></tr>\n",
       "\t<tr><th scope=row>6 Klasen, Miss. Gertrud Emilia</th><td>0</td><td>1</td><td>0</td><td>0</td><td>1</td><td>1</td><td>0</td><td>0</td><td>0</td><td>0</td><td>1</td></tr>\n",
       "</tbody>\n",
       "</table>\n"
      ],
      "text/latex": [
       "\\begin{tabular}{r|lllllllllll}\n",
       "  & male & female & class1 & class2 & class3 & child & youngAdult & adult & old & survived & died\\\\\n",
       "\\hline\n",
       "\t1 Gale, Mr. Shadrach & 1 & 0 & 0 & 1 & 0 & 0 & 0 & 1 & 0 & 0 & 1\\\\\n",
       "\t2 Jefferys, Mr. Clifford Thomas & 1 & 0 & 0 & 1 & 0 & 0 & 1 & 0 & 0 & 0 & 1\\\\\n",
       "\t3 Kimball, Mrs. Edwin Nelson Jr (Gertrude Parsons) & 0 & 1 & 1 & 0 & 0 & 0 & 0 & 1 & 0 & 1 & 0\\\\\n",
       "\t4 Pain, Dr. Alfred & 1 & 0 & 0 & 1 & 0 & 0 & 1 & 0 & 0 & 0 & 1\\\\\n",
       "\t5 Maguire, Mr. John Edward & 1 & 0 & 1 & 0 & 0 & 0 & 1 & 0 & 0 & 0 & 1\\\\\n",
       "\t6 Klasen, Miss. Gertrud Emilia & 0 & 1 & 0 & 0 & 1 & 1 & 0 & 0 & 0 & 0 & 1\\\\\n",
       "\\end{tabular}\n"
      ],
      "text/markdown": [
       "\n",
       "| <!--/--> | male | female | class1 | class2 | class3 | child | youngAdult | adult | old | survived | died |\n",
       "|---|---|---|---|---|---|---|---|---|---|---|---|\n",
       "| 1 Gale, Mr. Shadrach | 1 | 0 | 0 | 1 | 0 | 0 | 0 | 1 | 0 | 0 | 1 |\n",
       "| 2 Jefferys, Mr. Clifford Thomas | 1 | 0 | 0 | 1 | 0 | 0 | 1 | 0 | 0 | 0 | 1 |\n",
       "| 3 Kimball, Mrs. Edwin Nelson Jr (Gertrude Parsons) | 0 | 1 | 1 | 0 | 0 | 0 | 0 | 1 | 0 | 1 | 0 |\n",
       "| 4 Pain, Dr. Alfred | 1 | 0 | 0 | 1 | 0 | 0 | 1 | 0 | 0 | 0 | 1 |\n",
       "| 5 Maguire, Mr. John Edward | 1 | 0 | 1 | 0 | 0 | 0 | 1 | 0 | 0 | 0 | 1 |\n",
       "| 6 Klasen, Miss. Gertrud Emilia | 0 | 1 | 0 | 0 | 1 | 1 | 0 | 0 | 0 | 0 | 1 |\n",
       "\n"
      ],
      "text/plain": [
       "                                                   male female class1 class2\n",
       "1 Gale, Mr. Shadrach                               1    0      0      1     \n",
       "2 Jefferys, Mr. Clifford Thomas                    1    0      0      1     \n",
       "3 Kimball, Mrs. Edwin Nelson Jr (Gertrude Parsons) 0    1      1      0     \n",
       "4 Pain, Dr. Alfred                                 1    0      0      1     \n",
       "5 Maguire, Mr. John Edward                         1    0      1      0     \n",
       "6 Klasen, Miss. Gertrud Emilia                     0    1      0      0     \n",
       "                                                   class3 child youngAdult\n",
       "1 Gale, Mr. Shadrach                               0      0     0         \n",
       "2 Jefferys, Mr. Clifford Thomas                    0      0     1         \n",
       "3 Kimball, Mrs. Edwin Nelson Jr (Gertrude Parsons) 0      0     0         \n",
       "4 Pain, Dr. Alfred                                 0      0     1         \n",
       "5 Maguire, Mr. John Edward                         0      0     1         \n",
       "6 Klasen, Miss. Gertrud Emilia                     1      1     0         \n",
       "                                                   adult old survived died\n",
       "1 Gale, Mr. Shadrach                               1     0   0        1   \n",
       "2 Jefferys, Mr. Clifford Thomas                    0     0   0        1   \n",
       "3 Kimball, Mrs. Edwin Nelson Jr (Gertrude Parsons) 1     0   1        0   \n",
       "4 Pain, Dr. Alfred                                 0     0   0        1   \n",
       "5 Maguire, Mr. John Edward                         0     0   0        1   \n",
       "6 Klasen, Miss. Gertrud Emilia                     0     0   0        1   "
      ]
     },
     "metadata": {},
     "output_type": "display_data"
    }
   ],
   "source": [
    "cdt <- completeDisjunctiveTable(train)\n",
    "head(cdt)"
   ]
  },
  {
   "cell_type": "markdown",
   "metadata": {},
   "source": [
    "Maintenant que nous avons uniquement des valeurs numériques, il est possible d'afficher une matrice de corrélation pour mieux observées les corrélations potentielles de nos variables :\n",
    "- Les variables qualitatives ordinales ont un fort coefficient de corrélation négatif.\n",
    "- Nous pouvons observer de fort liens entre le sexe de l'individu et son statut de survie."
   ]
  },
  {
   "cell_type": "code",
   "execution_count": 22,
   "metadata": {},
   "outputs": [
    {
     "data": {
      "image/png": "[encoded data removed]",
      "text/plain": [
       "plot without title"
      ]
     },
     "metadata": {},
     "output_type": "display_data"
    }
   ],
   "source": [
    "vis_cor(cdt)"
   ]
  },
  {
   "cell_type": "markdown",
   "metadata": {},
   "source": [
    "## III - Construction du tableau de Burt et poids des différentes catégories"
   ]
  },
  {
   "cell_type": "markdown",
   "metadata": {},
   "source": [
    "Un tableau de Burt est une matrice carrée symétrique. Elle contient tous les tableaux de contingence des variables prises deux à deux. Elle peut être calculée à partir du tableau disjonctif complet : si l'on note $D$, le tableau disjonctif complet, alors la table de Burt $B$ est égale à $ D^{T}D$.\n",
    "\n",
    "Créons la fonction `burtTable`, qui nous permettras d'obtenir notre tableau :"
   ]
  },
  {
   "cell_type": "code",
   "execution_count": 23,
   "metadata": {},
   "outputs": [],
   "source": [
    "computeBurtValue <- function (x, y) {\n",
    "    return(Reduce(\"+\", 1:length(x) %>%\n",
    "      map(function(i) x[i] * y[i])))\n",
    "}\n",
    "\n",
    "burtTable <- function(data) {\n",
    "    bt = data.frame(matrix(vector(), ncol(data), ncol(data),\n",
    "                dimnames=list(c(), colnames(data))),\n",
    "                stringsAsFactors=F)\n",
    "    for (i in colnames(data)){\n",
    "        newCol <- vector()\n",
    "        for (j in colnames(data)){\n",
    "            newCol <- c(newCol, computeBurtValue(data[[i]], data[[j]]))\n",
    "        }\n",
    "        bt[[i]] <- newCol\n",
    "    }\n",
    "    rownames(bt) <- colnames(data)\n",
    "    return(bt)\n",
    "}          "
   ]
  },
  {
   "cell_type": "code",
   "execution_count": 24,
   "metadata": {},
   "outputs": [
    {
     "data": {
      "text/html": [
       "<table>\n",
       "<thead><tr><th></th><th scope=col>male</th><th scope=col>female</th><th scope=col>class1</th><th scope=col>class2</th><th scope=col>class3</th><th scope=col>child</th><th scope=col>youngAdult</th><th scope=col>adult</th><th scope=col>old</th><th scope=col>survived</th><th scope=col>died</th></tr></thead>\n",
       "<tbody>\n",
       "\t<tr><th scope=row>male</th><td>419</td><td>  0</td><td>100</td><td> 87</td><td>232</td><td>30 </td><td>237</td><td>118</td><td>34 </td><td> 80</td><td>339</td></tr>\n",
       "\t<tr><th scope=row>female</th><td>  0</td><td>235</td><td> 70</td><td> 53</td><td>112</td><td>33 </td><td>125</td><td> 62</td><td>15 </td><td>163</td><td> 72</td></tr>\n",
       "\t<tr><th scope=row>class1</th><td>100</td><td> 70</td><td>170</td><td>  0</td><td>  0</td><td> 4 </td><td> 58</td><td> 74</td><td>34 </td><td> 99</td><td> 71</td></tr>\n",
       "\t<tr><th scope=row>class2</th><td> 87</td><td> 53</td><td>  0</td><td>140</td><td>  0</td><td>18 </td><td> 67</td><td> 42</td><td>13 </td><td> 61</td><td> 79</td></tr>\n",
       "\t<tr><th scope=row>class3</th><td>232</td><td>112</td><td>  0</td><td>  0</td><td>344</td><td>41 </td><td>237</td><td> 64</td><td> 2 </td><td> 83</td><td>261</td></tr>\n",
       "\t<tr><th scope=row>child</th><td> 30</td><td> 33</td><td>  4</td><td> 18</td><td> 41</td><td>63 </td><td>  0</td><td>  0</td><td> 0 </td><td> 38</td><td> 25</td></tr>\n",
       "\t<tr><th scope=row>youngAdult</th><td>237</td><td>125</td><td> 58</td><td> 67</td><td>237</td><td> 0 </td><td>362</td><td>  0</td><td> 0 </td><td>119</td><td>243</td></tr>\n",
       "\t<tr><th scope=row>adult</th><td>118</td><td> 62</td><td> 74</td><td> 42</td><td> 64</td><td> 0 </td><td>  0</td><td>180</td><td> 0 </td><td> 67</td><td>113</td></tr>\n",
       "\t<tr><th scope=row>old</th><td> 34</td><td> 15</td><td> 34</td><td> 13</td><td>  2</td><td> 0 </td><td>  0</td><td>  0</td><td>49 </td><td> 19</td><td> 30</td></tr>\n",
       "\t<tr><th scope=row>survived</th><td> 80</td><td>163</td><td> 99</td><td> 61</td><td> 83</td><td>38 </td><td>119</td><td> 67</td><td>19 </td><td>243</td><td>  0</td></tr>\n",
       "\t<tr><th scope=row>died</th><td>339</td><td> 72</td><td> 71</td><td> 79</td><td>261</td><td>25 </td><td>243</td><td>113</td><td>30 </td><td>  0</td><td>411</td></tr>\n",
       "</tbody>\n",
       "</table>\n"
      ],
      "text/latex": [
       "\\begin{tabular}{r|lllllllllll}\n",
       "  & male & female & class1 & class2 & class3 & child & youngAdult & adult & old & survived & died\\\\\n",
       "\\hline\n",
       "\tmale & 419 &   0 & 100 &  87 & 232 & 30  & 237 & 118 & 34  &  80 & 339\\\\\n",
       "\tfemale &   0 & 235 &  70 &  53 & 112 & 33  & 125 &  62 & 15  & 163 &  72\\\\\n",
       "\tclass1 & 100 &  70 & 170 &   0 &   0 &  4  &  58 &  74 & 34  &  99 &  71\\\\\n",
       "\tclass2 &  87 &  53 &   0 & 140 &   0 & 18  &  67 &  42 & 13  &  61 &  79\\\\\n",
       "\tclass3 & 232 & 112 &   0 &   0 & 344 & 41  & 237 &  64 &  2  &  83 & 261\\\\\n",
       "\tchild &  30 &  33 &   4 &  18 &  41 & 63  &   0 &   0 &  0  &  38 &  25\\\\\n",
       "\tyoungAdult & 237 & 125 &  58 &  67 & 237 &  0  & 362 &   0 &  0  & 119 & 243\\\\\n",
       "\tadult & 118 &  62 &  74 &  42 &  64 &  0  &   0 & 180 &  0  &  67 & 113\\\\\n",
       "\told &  34 &  15 &  34 &  13 &   2 &  0  &   0 &   0 & 49  &  19 &  30\\\\\n",
       "\tsurvived &  80 & 163 &  99 &  61 &  83 & 38  & 119 &  67 & 19  & 243 &   0\\\\\n",
       "\tdied & 339 &  72 &  71 &  79 & 261 & 25  & 243 & 113 & 30  &   0 & 411\\\\\n",
       "\\end{tabular}\n"
      ],
      "text/markdown": [
       "\n",
       "| <!--/--> | male | female | class1 | class2 | class3 | child | youngAdult | adult | old | survived | died |\n",
       "|---|---|---|---|---|---|---|---|---|---|---|---|\n",
       "| male | 419 |   0 | 100 |  87 | 232 | 30  | 237 | 118 | 34  |  80 | 339 |\n",
       "| female |   0 | 235 |  70 |  53 | 112 | 33  | 125 |  62 | 15  | 163 |  72 |\n",
       "| class1 | 100 |  70 | 170 |   0 |   0 |  4  |  58 |  74 | 34  |  99 |  71 |\n",
       "| class2 |  87 |  53 |   0 | 140 |   0 | 18  |  67 |  42 | 13  |  61 |  79 |\n",
       "| class3 | 232 | 112 |   0 |   0 | 344 | 41  | 237 |  64 |  2  |  83 | 261 |\n",
       "| child |  30 |  33 |   4 |  18 |  41 | 63  |   0 |   0 |  0  |  38 |  25 |\n",
       "| youngAdult | 237 | 125 |  58 |  67 | 237 |  0  | 362 |   0 |  0  | 119 | 243 |\n",
       "| adult | 118 |  62 |  74 |  42 |  64 |  0  |   0 | 180 |  0  |  67 | 113 |\n",
       "| old |  34 |  15 |  34 |  13 |   2 |  0  |   0 |   0 | 49  |  19 |  30 |\n",
       "| survived |  80 | 163 |  99 |  61 |  83 | 38  | 119 |  67 | 19  | 243 |   0 |\n",
       "| died | 339 |  72 |  71 |  79 | 261 | 25  | 243 | 113 | 30  |   0 | 411 |\n",
       "\n"
      ],
      "text/plain": [
       "           male female class1 class2 class3 child youngAdult adult old survived\n",
       "male       419    0    100     87    232    30    237        118   34   80     \n",
       "female       0  235     70     53    112    33    125         62   15  163     \n",
       "class1     100   70    170      0      0     4     58         74   34   99     \n",
       "class2      87   53      0    140      0    18     67         42   13   61     \n",
       "class3     232  112      0      0    344    41    237         64    2   83     \n",
       "child       30   33      4     18     41    63      0          0    0   38     \n",
       "youngAdult 237  125     58     67    237     0    362          0    0  119     \n",
       "adult      118   62     74     42     64     0      0        180    0   67     \n",
       "old         34   15     34     13      2     0      0          0   49   19     \n",
       "survived    80  163     99     61     83    38    119         67   19  243     \n",
       "died       339   72     71     79    261    25    243        113   30    0     \n",
       "           died\n",
       "male       339 \n",
       "female      72 \n",
       "class1      71 \n",
       "class2      79 \n",
       "class3     261 \n",
       "child       25 \n",
       "youngAdult 243 \n",
       "adult      113 \n",
       "old         30 \n",
       "survived     0 \n",
       "died       411 "
      ]
     },
     "metadata": {},
     "output_type": "display_data"
    }
   ],
   "source": [
    "bt <- burtTable(cdt)\n",
    "bt"
   ]
  },
  {
   "cell_type": "markdown",
   "metadata": {},
   "source": [
    "Grâce à notre tableau de burt nous pouvons très facilement faire des observations sur nos variables. Par exemple :\n",
    "- La proportion d'enfant qui a survécu est de 38/64, soit de 59%\n",
    "- La proportion de femmes qui a survécu est de 163/235 soit de 69%\n",
    "\n",
    "À partir de notre tableau de burt il devient très simple de mieux le visualiser avec une *heatmap*.\n",
    "\n",
    "Une heat map, ou heatmap (terme anglais signifiant littéralement carte de chaleur, ou carte thermique), carte de fréquentation en Français, est une représentation graphique de données statistiques qui fait correspondre à l'intensité d'une grandeur variable une gamme de tons ou un nuancier de couleurs sur une matrice à deux dimensions (qui peut elle-même représenter une zone géographique). Ce procédé permet de donner à des données un aspect visuel plus facile à saisir qu'un tableau de statistiques.\n",
    "\n",
    "Nous pouvons ainsi voir quels sont les variables fortement liées (couleur plus foncée), comme vu avec notre matrice de corrélation, il y a un fort lien entre le statut de survie d'un passager et son sexe."
   ]
  },
  {
   "cell_type": "code",
   "execution_count": 25,
   "metadata": {},
   "outputs": [
    {
     "data": {
      "image/png": "[encoded data removed]",
      "text/plain": [
       "plot without title"
      ]
     },
     "metadata": {},
     "output_type": "display_data"
    }
   ],
   "source": [
    "heatmap(as.matrix(bt))"
   ]
  },
  {
   "cell_type": "markdown",
   "metadata": {},
   "source": [
    "## IIII - Réalisation d’une Analyse factorielle des correspondances (CA) sur le tableau de Burt"
   ]
  },
  {
   "cell_type": "markdown",
   "metadata": {},
   "source": [
    "L'analyse factorielle des correspondances est une méthode statistique d'analyse des données qui permet d'étudier le lien entre deux variables qualitatives. Pour ce faire, les analyses factorielles étudient l'inertie du nuage de points ayant pour coordonnées les valeurs présentes sur les lignes du tableau de données.\n",
    "\n",
    "### CA sans les variables survivant/non-survivant\n",
    "\n",
    "Imaginons que l'on veut concevoir un modèle statistique qui détermine si un individu a survécu ou non à partir de plusieurs critères, comme son âge, sa classe ou encore son sexe. Pour cela, mon approche d'utiliser l'analyse factorielle des correspondances sans les variables pour mieux pouvoir interpréter mon jeu de données sur un plus petit nombre de dimensions. Ensuite, il sera sûrement possible d'observer des groupes pour savoir plus précisément les variables qui sont liées entre elles."
   ]
  },
  {
   "cell_type": "code",
   "execution_count": 26,
   "metadata": {},
   "outputs": [
    {
     "data": {
      "text/html": [
       "<table>\n",
       "<thead><tr><th></th><th scope=col>male</th><th scope=col>female</th><th scope=col>class1</th><th scope=col>class2</th><th scope=col>class3</th><th scope=col>child</th><th scope=col>youngAdult</th><th scope=col>adult</th><th scope=col>old</th></tr></thead>\n",
       "<tbody>\n",
       "\t<tr><th scope=row>male</th><td>419</td><td>  0</td><td>100</td><td> 87</td><td>232</td><td>30 </td><td>237</td><td>118</td><td>34 </td></tr>\n",
       "\t<tr><th scope=row>female</th><td>  0</td><td>235</td><td> 70</td><td> 53</td><td>112</td><td>33 </td><td>125</td><td> 62</td><td>15 </td></tr>\n",
       "\t<tr><th scope=row>class1</th><td>100</td><td> 70</td><td>170</td><td>  0</td><td>  0</td><td> 4 </td><td> 58</td><td> 74</td><td>34 </td></tr>\n",
       "\t<tr><th scope=row>class2</th><td> 87</td><td> 53</td><td>  0</td><td>140</td><td>  0</td><td>18 </td><td> 67</td><td> 42</td><td>13 </td></tr>\n",
       "\t<tr><th scope=row>class3</th><td>232</td><td>112</td><td>  0</td><td>  0</td><td>344</td><td>41 </td><td>237</td><td> 64</td><td> 2 </td></tr>\n",
       "\t<tr><th scope=row>child</th><td> 30</td><td> 33</td><td>  4</td><td> 18</td><td> 41</td><td>63 </td><td>  0</td><td>  0</td><td> 0 </td></tr>\n",
       "\t<tr><th scope=row>youngAdult</th><td>237</td><td>125</td><td> 58</td><td> 67</td><td>237</td><td> 0 </td><td>362</td><td>  0</td><td> 0 </td></tr>\n",
       "\t<tr><th scope=row>adult</th><td>118</td><td> 62</td><td> 74</td><td> 42</td><td> 64</td><td> 0 </td><td>  0</td><td>180</td><td> 0 </td></tr>\n",
       "\t<tr><th scope=row>old</th><td> 34</td><td> 15</td><td> 34</td><td> 13</td><td>  2</td><td> 0 </td><td>  0</td><td>  0</td><td>49 </td></tr>\n",
       "</tbody>\n",
       "</table>\n"
      ],
      "text/latex": [
       "\\begin{tabular}{r|lllllllll}\n",
       "  & male & female & class1 & class2 & class3 & child & youngAdult & adult & old\\\\\n",
       "\\hline\n",
       "\tmale & 419 &   0 & 100 &  87 & 232 & 30  & 237 & 118 & 34 \\\\\n",
       "\tfemale &   0 & 235 &  70 &  53 & 112 & 33  & 125 &  62 & 15 \\\\\n",
       "\tclass1 & 100 &  70 & 170 &   0 &   0 &  4  &  58 &  74 & 34 \\\\\n",
       "\tclass2 &  87 &  53 &   0 & 140 &   0 & 18  &  67 &  42 & 13 \\\\\n",
       "\tclass3 & 232 & 112 &   0 &   0 & 344 & 41  & 237 &  64 &  2 \\\\\n",
       "\tchild &  30 &  33 &   4 &  18 &  41 & 63  &   0 &   0 &  0 \\\\\n",
       "\tyoungAdult & 237 & 125 &  58 &  67 & 237 &  0  & 362 &   0 &  0 \\\\\n",
       "\tadult & 118 &  62 &  74 &  42 &  64 &  0  &   0 & 180 &  0 \\\\\n",
       "\told &  34 &  15 &  34 &  13 &   2 &  0  &   0 &   0 & 49 \\\\\n",
       "\\end{tabular}\n"
      ],
      "text/markdown": [
       "\n",
       "| <!--/--> | male | female | class1 | class2 | class3 | child | youngAdult | adult | old |\n",
       "|---|---|---|---|---|---|---|---|---|---|\n",
       "| male | 419 |   0 | 100 |  87 | 232 | 30  | 237 | 118 | 34  |\n",
       "| female |   0 | 235 |  70 |  53 | 112 | 33  | 125 |  62 | 15  |\n",
       "| class1 | 100 |  70 | 170 |   0 |   0 |  4  |  58 |  74 | 34  |\n",
       "| class2 |  87 |  53 |   0 | 140 |   0 | 18  |  67 |  42 | 13  |\n",
       "| class3 | 232 | 112 |   0 |   0 | 344 | 41  | 237 |  64 |  2  |\n",
       "| child |  30 |  33 |   4 |  18 |  41 | 63  |   0 |   0 |  0  |\n",
       "| youngAdult | 237 | 125 |  58 |  67 | 237 |  0  | 362 |   0 |  0  |\n",
       "| adult | 118 |  62 |  74 |  42 |  64 |  0  |   0 | 180 |  0  |\n",
       "| old |  34 |  15 |  34 |  13 |   2 |  0  |   0 |   0 | 49  |\n",
       "\n"
      ],
      "text/plain": [
       "           male female class1 class2 class3 child youngAdult adult old\n",
       "male       419    0    100     87    232    30    237        118   34 \n",
       "female       0  235     70     53    112    33    125         62   15 \n",
       "class1     100   70    170      0      0     4     58         74   34 \n",
       "class2      87   53      0    140      0    18     67         42   13 \n",
       "class3     232  112      0      0    344    41    237         64    2 \n",
       "child       30   33      4     18     41    63      0          0    0 \n",
       "youngAdult 237  125     58     67    237     0    362          0    0 \n",
       "adult      118   62     74     42     64     0      0        180    0 \n",
       "old         34   15     34     13      2     0      0          0   49 "
      ]
     },
     "metadata": {},
     "output_type": "display_data"
    }
   ],
   "source": [
    "btBis <- head(bt[1:(length(bt)-2)], -2)\n",
    "btBis"
   ]
  },
  {
   "cell_type": "code",
   "execution_count": 27,
   "metadata": {},
   "outputs": [
    {
     "data": {
      "text/plain": [
       "**Results of the Correspondence Analysis (CA)**\n",
       "The row variable has  9  categories; the column variable has 9 categories\n",
       "The chi square of independence between the two variables is equal to 4195.896 (p-value =  0 ).\n",
       "*The results are available in the following objects:\n",
       "\n",
       "   name              description                   \n",
       "1  \"$eig\"            \"eigenvalues\"                 \n",
       "2  \"$col\"            \"results for the columns\"     \n",
       "3  \"$col$coord\"      \"coord. for the columns\"      \n",
       "4  \"$col$cos2\"       \"cos2 for the columns\"        \n",
       "5  \"$col$contrib\"    \"contributions of the columns\"\n",
       "6  \"$row\"            \"results for the rows\"        \n",
       "7  \"$row$coord\"      \"coord. for the rows\"         \n",
       "8  \"$row$cos2\"       \"cos2 for the rows\"           \n",
       "9  \"$row$contrib\"    \"contributions of the rows\"   \n",
       "10 \"$call\"           \"summary called parameters\"   \n",
       "11 \"$call$marge.col\" \"weights of the columns\"      \n",
       "12 \"$call$marge.row\" \"weights of the rows\"         "
      ]
     },
     "metadata": {},
     "output_type": "display_data"
    }
   ],
   "source": [
    "btBis.ca <- CA(btBis, graph = FALSE)\n",
    "btBis.ca"
   ]
  },
  {
   "cell_type": "markdown",
   "metadata": {},
   "source": [
    "Grâce aux valeurs propres, nous pouvons voir que les dimensions 1 et 2 résument à eux seuls 50% du jeu de donnée, nous pouvons donc les choisir comme nos deux composantes principales."
   ]
  },
  {
   "cell_type": "code",
   "execution_count": 28,
   "metadata": {},
   "outputs": [
    {
     "data": {
      "text/html": [
       "<table>\n",
       "<thead><tr><th></th><th scope=col>eigenvalue</th><th scope=col>variance.percent</th><th scope=col>cumulative.variance.percent</th></tr></thead>\n",
       "<tbody>\n",
       "\t<tr><th scope=row>Dim.1</th><td>2.269156e-01</td><td>3.183170e+01</td><td> 31.83170   </td></tr>\n",
       "\t<tr><th scope=row>Dim.2</th><td>1.438688e-01</td><td>2.018191e+01</td><td> 52.01361   </td></tr>\n",
       "\t<tr><th scope=row>Dim.3</th><td>1.111364e-01</td><td>1.559020e+01</td><td> 67.60381   </td></tr>\n",
       "\t<tr><th scope=row>Dim.4</th><td>1.096979e-01</td><td>1.538841e+01</td><td> 82.99222   </td></tr>\n",
       "\t<tr><th scope=row>Dim.5</th><td>8.723472e-02</td><td>1.223728e+01</td><td> 95.22950   </td></tr>\n",
       "\t<tr><th scope=row>Dim.6</th><td>3.400699e-02</td><td>4.770498e+00</td><td>100.00000   </td></tr>\n",
       "\t<tr><th scope=row>Dim.7</th><td>9.639119e-33</td><td>1.352175e-30</td><td>100.00000   </td></tr>\n",
       "\t<tr><th scope=row>Dim.8</th><td>1.430908e-33</td><td>2.007276e-31</td><td>100.00000   </td></tr>\n",
       "</tbody>\n",
       "</table>\n"
      ],
      "text/latex": [
       "\\begin{tabular}{r|lll}\n",
       "  & eigenvalue & variance.percent & cumulative.variance.percent\\\\\n",
       "\\hline\n",
       "\tDim.1 & 2.269156e-01 & 3.183170e+01 &  31.83170   \\\\\n",
       "\tDim.2 & 1.438688e-01 & 2.018191e+01 &  52.01361   \\\\\n",
       "\tDim.3 & 1.111364e-01 & 1.559020e+01 &  67.60381   \\\\\n",
       "\tDim.4 & 1.096979e-01 & 1.538841e+01 &  82.99222   \\\\\n",
       "\tDim.5 & 8.723472e-02 & 1.223728e+01 &  95.22950   \\\\\n",
       "\tDim.6 & 3.400699e-02 & 4.770498e+00 & 100.00000   \\\\\n",
       "\tDim.7 & 9.639119e-33 & 1.352175e-30 & 100.00000   \\\\\n",
       "\tDim.8 & 1.430908e-33 & 2.007276e-31 & 100.00000   \\\\\n",
       "\\end{tabular}\n"
      ],
      "text/markdown": [
       "\n",
       "| <!--/--> | eigenvalue | variance.percent | cumulative.variance.percent |\n",
       "|---|---|---|---|\n",
       "| Dim.1 | 2.269156e-01 | 3.183170e+01 |  31.83170    |\n",
       "| Dim.2 | 1.438688e-01 | 2.018191e+01 |  52.01361    |\n",
       "| Dim.3 | 1.111364e-01 | 1.559020e+01 |  67.60381    |\n",
       "| Dim.4 | 1.096979e-01 | 1.538841e+01 |  82.99222    |\n",
       "| Dim.5 | 8.723472e-02 | 1.223728e+01 |  95.22950    |\n",
       "| Dim.6 | 3.400699e-02 | 4.770498e+00 | 100.00000    |\n",
       "| Dim.7 | 9.639119e-33 | 1.352175e-30 | 100.00000    |\n",
       "| Dim.8 | 1.430908e-33 | 2.007276e-31 | 100.00000    |\n",
       "\n"
      ],
      "text/plain": [
       "      eigenvalue   variance.percent cumulative.variance.percent\n",
       "Dim.1 2.269156e-01 3.183170e+01      31.83170                  \n",
       "Dim.2 1.438688e-01 2.018191e+01      52.01361                  \n",
       "Dim.3 1.111364e-01 1.559020e+01      67.60381                  \n",
       "Dim.4 1.096979e-01 1.538841e+01      82.99222                  \n",
       "Dim.5 8.723472e-02 1.223728e+01      95.22950                  \n",
       "Dim.6 3.400699e-02 4.770498e+00     100.00000                  \n",
       "Dim.7 9.639119e-33 1.352175e-30     100.00000                  \n",
       "Dim.8 1.430908e-33 2.007276e-31     100.00000                  "
      ]
     },
     "metadata": {},
     "output_type": "display_data"
    }
   ],
   "source": [
    "eigen1 <- get_eigenvalue(btBis.ca)\n",
    "eigen1"
   ]
  },
  {
   "cell_type": "code",
   "execution_count": 29,
   "metadata": {},
   "outputs": [
    {
     "data": {
      "image/png": "[encoded data removed]",
      "text/plain": [
       "plot without title"
      ]
     },
     "metadata": {},
     "output_type": "display_data"
    }
   ],
   "source": [
    "p = 1/nrow(eigen1)\n",
    "bp1 <- ggplot(data=as.data.frame(eigen1), aes(x=rownames(eigen1), y=eigenvalue)) +\n",
    "  geom_bar(stat=\"identity\") + geom_hline(yintercept = p, linetype = 'dashed', col = 'red', size = 2)\n",
    "bp1"
   ]
  },
  {
   "cell_type": "markdown",
   "metadata": {},
   "source": [
    "Avec un tableau d'aide à l'interprétation, nous pouvons observer que :\n",
    "\n",
    "- Pour la première dimension, les variables qui contribuent beaucoup à la formation de l'axe sont :\n",
    "    - class1, class3, youngAdult, adult et old\n",
    "- Pour la deuxième dimension, les variables qui contribuent beaucoup à la formation de l'axe sont :\n",
    "    - male, female, class2, child\n",
    "\n",
    "Nos deux axes résument bien l'ensemble de notre jeu de données."
   ]
  },
  {
   "cell_type": "code",
   "execution_count": 30,
   "metadata": {},
   "outputs": [
    {
     "data": {
      "text/html": [
       "<table>\n",
       "<thead><tr><th></th><th scope=col>Dim 1</th><th scope=col>Dim 2</th><th scope=col>Dim 1</th><th scope=col>Dim 2</th><th scope=col>Dim 1</th><th scope=col>Dim 2</th></tr></thead>\n",
       "<tbody>\n",
       "\t<tr><th scope=row>male</th><td>-0.03</td><td>-0.29</td><td> 0.09</td><td>12.83</td><td>0.00 </td><td>0.45 </td></tr>\n",
       "\t<tr><th scope=row>female</th><td> 0.05</td><td> 0.52</td><td> 0.16</td><td>22.88</td><td>0.00 </td><td>0.45 </td></tr>\n",
       "\t<tr><th scope=row>class1</th><td> 0.90</td><td>-0.15</td><td>31.00</td><td> 1.38</td><td>0.74 </td><td>0.02 </td></tr>\n",
       "\t<tr><th scope=row>class2</th><td> 0.12</td><td> 0.53</td><td> 0.47</td><td>14.09</td><td>0.01 </td><td>0.23 </td></tr>\n",
       "\t<tr><th scope=row>class3</th><td>-0.49</td><td>-0.14</td><td>18.92</td><td> 2.46</td><td>0.71 </td><td>0.06 </td></tr>\n",
       "\t<tr><th scope=row>child</th><td>-0.50</td><td> 1.34</td><td> 3.58</td><td>40.09</td><td>0.08 </td><td>0.56 </td></tr>\n",
       "\t<tr><th scope=row>youngAdult</th><td>-0.37</td><td>-0.22</td><td>11.06</td><td> 6.11</td><td>0.46 </td><td>0.16 </td></tr>\n",
       "\t<tr><th scope=row>adult</th><td> 0.52</td><td> 0.00</td><td>10.79</td><td> 0.00</td><td>0.29 </td><td>0.00 </td></tr>\n",
       "\t<tr><th scope=row>old</th><td> 1.47</td><td>-0.09</td><td>23.94</td><td> 0.16</td><td>0.48 </td><td>0.00 </td></tr>\n",
       "</tbody>\n",
       "</table>\n"
      ],
      "text/latex": [
       "\\begin{tabular}{r|llllll}\n",
       "  & Dim 1 & Dim 2 & Dim 1 & Dim 2 & Dim 1 & Dim 2\\\\\n",
       "\\hline\n",
       "\tmale & -0.03 & -0.29 &  0.09 & 12.83 & 0.00  & 0.45 \\\\\n",
       "\tfemale &  0.05 &  0.52 &  0.16 & 22.88 & 0.00  & 0.45 \\\\\n",
       "\tclass1 &  0.90 & -0.15 & 31.00 &  1.38 & 0.74  & 0.02 \\\\\n",
       "\tclass2 &  0.12 &  0.53 &  0.47 & 14.09 & 0.01  & 0.23 \\\\\n",
       "\tclass3 & -0.49 & -0.14 & 18.92 &  2.46 & 0.71  & 0.06 \\\\\n",
       "\tchild & -0.50 &  1.34 &  3.58 & 40.09 & 0.08  & 0.56 \\\\\n",
       "\tyoungAdult & -0.37 & -0.22 & 11.06 &  6.11 & 0.46  & 0.16 \\\\\n",
       "\tadult &  0.52 &  0.00 & 10.79 &  0.00 & 0.29  & 0.00 \\\\\n",
       "\told &  1.47 & -0.09 & 23.94 &  0.16 & 0.48  & 0.00 \\\\\n",
       "\\end{tabular}\n"
      ],
      "text/markdown": [
       "\n",
       "| <!--/--> | Dim 1 | Dim 2 | Dim 1 | Dim 2 | Dim 1 | Dim 2 |\n",
       "|---|---|---|---|---|---|---|\n",
       "| male | -0.03 | -0.29 |  0.09 | 12.83 | 0.00  | 0.45  |\n",
       "| female |  0.05 |  0.52 |  0.16 | 22.88 | 0.00  | 0.45  |\n",
       "| class1 |  0.90 | -0.15 | 31.00 |  1.38 | 0.74  | 0.02  |\n",
       "| class2 |  0.12 |  0.53 |  0.47 | 14.09 | 0.01  | 0.23  |\n",
       "| class3 | -0.49 | -0.14 | 18.92 |  2.46 | 0.71  | 0.06  |\n",
       "| child | -0.50 |  1.34 |  3.58 | 40.09 | 0.08  | 0.56  |\n",
       "| youngAdult | -0.37 | -0.22 | 11.06 |  6.11 | 0.46  | 0.16  |\n",
       "| adult |  0.52 |  0.00 | 10.79 |  0.00 | 0.29  | 0.00  |\n",
       "| old |  1.47 | -0.09 | 23.94 |  0.16 | 0.48  | 0.00  |\n",
       "\n"
      ],
      "text/plain": [
       "           Dim 1 Dim 2 Dim 1 Dim 2 Dim 1 Dim 2\n",
       "male       -0.03 -0.29  0.09 12.83 0.00  0.45 \n",
       "female      0.05  0.52  0.16 22.88 0.00  0.45 \n",
       "class1      0.90 -0.15 31.00  1.38 0.74  0.02 \n",
       "class2      0.12  0.53  0.47 14.09 0.01  0.23 \n",
       "class3     -0.49 -0.14 18.92  2.46 0.71  0.06 \n",
       "child      -0.50  1.34  3.58 40.09 0.08  0.56 \n",
       "youngAdult -0.37 -0.22 11.06  6.11 0.46  0.16 \n",
       "adult       0.52  0.00 10.79  0.00 0.29  0.00 \n",
       "old         1.47 -0.09 23.94  0.16 0.48  0.00 "
      ]
     },
     "metadata": {},
     "output_type": "display_data"
    }
   ],
   "source": [
    "interp <- as.data.frame(round(cbind(btBis.ca$row$coord[,1:2],btBis.ca$row$contrib[,1:2],btBis.ca$row$cos2[,1:2]),2))\n",
    "interp"
   ]
  },
  {
   "cell_type": "code",
   "execution_count": 31,
   "metadata": {},
   "outputs": [
    {
     "data": {
      "image/png": "[encoded data removed]",
      "text/plain": [
       "plot without title"
      ]
     },
     "metadata": {},
     "output_type": "display_data"
    }
   ],
   "source": [
    "plot.CA(btBis.ca)"
   ]
  },
  {
   "cell_type": "markdown",
   "metadata": {},
   "source": [
    "Le partitionnement en k-moyennes (ou k-means en anglais) est une méthode de partitionnement de données et un problème d'optimisation combinatoire. Étant donnés des points et un entier k, le problème est de diviser les points en k groupes, souvent appelés clusters, de façon à minimiser une certaine fonction. On considère la distance d'un point à la moyenne des points de son cluster ; la fonction à minimiser est la somme des carrés de ces distances.\n",
    "\n",
    "Nous allons ici utiliser cette méthode pour mieux pouvoir distinguer nos groupes."
   ]
  },
  {
   "cell_type": "code",
   "execution_count": 32,
   "metadata": {},
   "outputs": [
    {
     "data": {
      "text/plain": [
       "K-means clustering with 3 clusters of sizes 3, 3, 3\n",
       "\n",
       "Cluster means:\n",
       "       Dim 1      Dim 2\n",
       "1 -0.1100000  0.7966667\n",
       "2  0.9633333 -0.0800000\n",
       "3 -0.2966667 -0.2166667\n",
       "\n",
       "Clustering vector:\n",
       "      male     female     class1     class2     class3      child youngAdult \n",
       "         3          1          2          1          3          1          3 \n",
       "     adult        old \n",
       "         2          2 \n",
       "\n",
       "Within cluster sum of squares by cluster:\n",
       "[1] 0.6734667 0.4686667 0.1251333\n",
       " (between_SS / total_SS =  78.4 %)\n",
       "\n",
       "Available components:\n",
       "\n",
       "[1] \"cluster\"      \"centers\"      \"totss\"        \"withinss\"     \"tot.withinss\"\n",
       "[6] \"betweenss\"    \"size\"         \"iter\"         \"ifault\"      "
      ]
     },
     "metadata": {},
     "output_type": "display_data"
    }
   ],
   "source": [
    "btBis$km <-kmeans(interp[1:2], 3)\n",
    "btBis$km"
   ]
  },
  {
   "cell_type": "code",
   "execution_count": 33,
   "metadata": {},
   "outputs": [
    {
     "data": {
      "image/png": "[encoded data removed]",
      "text/plain": [
       "Plot with title \"CLUSPLOT( interp[1:2] )\""
      ]
     },
     "metadata": {},
     "output_type": "display_data"
    }
   ],
   "source": [
    "clusplot(interp[1:2], btBis$km$cluster, color=TRUE, shade=TRUE, \n",
    "         labels=2, lines=0)"
   ]
  },
  {
   "cell_type": "markdown",
   "metadata": {},
   "source": [
    "On peut facilement observer 3 groupes qui se sont former grâce aux k-moyennes :\n",
    "- Groupe 1 (child, class2, female) : on peut imaginer ici que la majorité des femmes sont en class2 et qu'elle sont pour la plupart du temps accompagné par leurs enfants.\n",
    "- Groupe 2 (adult, class1, old) : la class2 à l'air majoritairement composé d'adulte et de personnes âgées.\n",
    "- Groupe 3 (class3, youngAdult, male) : la class3 à l'air majorirement composé de jeune homme."
   ]
  },
  {
   "cell_type": "markdown",
   "metadata": {},
   "source": [
    "### CA avec les variables survivant/non survivant en variables supplémentaires \n",
    "\n",
    "Sans pour autant participer à la construction des composantes principales, les variables supplémentaires figurent tout de même graphiquement dans le cercle des corrélations. Ce qui nous permettra dans notre cas de mieux observer à quel groupe appartient nos variables survivant et non-survivant. Nos valeurs propres, obtenues dans cette analyse, seront donc similaires à nos résultats précédents."
   ]
  },
  {
   "cell_type": "code",
   "execution_count": 34,
   "metadata": {},
   "outputs": [],
   "source": [
    "bt.ca <- CA(bt, graph = FALSE, col.sup = 10:11)\n",
    "eigen2<- get_eigenvalue(bt.ca)\n",
    " interp <- as.data.frame(round(cbind(bt.ca$row$coord[,1:2],bt.ca$row$contrib[,1:2],bt.ca$row$cos2[,1:2]),2))"
   ]
  },
  {
   "cell_type": "code",
   "execution_count": 35,
   "metadata": {},
   "outputs": [
    {
     "data": {
      "text/plain": [
       "K-means clustering with 3 clusters of sizes 4, 4, 3\n",
       "\n",
       "Cluster means:\n",
       "       Dim 1   Dim 2\n",
       "1  0.0825000  0.6375\n",
       "2 -0.2875000 -0.1625\n",
       "3  0.9266667 -0.2800\n",
       "\n",
       "Clustering vector:\n",
       "      male     female     class1     class2     class3      child youngAdult \n",
       "         2          1          3          1          2          1          2 \n",
       "     adult        old   survived       died \n",
       "         3          3          1          2 \n",
       "\n",
       "Within cluster sum of squares by cluster:\n",
       "[1] 0.7669500 0.1721500 0.4678667\n",
       " (between_SS / total_SS =  76.0 %)\n",
       "\n",
       "Available components:\n",
       "\n",
       "[1] \"cluster\"      \"centers\"      \"totss\"        \"withinss\"     \"tot.withinss\"\n",
       "[6] \"betweenss\"    \"size\"         \"iter\"         \"ifault\"      "
      ]
     },
     "metadata": {},
     "output_type": "display_data"
    }
   ],
   "source": [
    "km <-kmeans(interp[1:2], 3)\n",
    "km"
   ]
  },
  {
   "cell_type": "code",
   "execution_count": 36,
   "metadata": {},
   "outputs": [
    {
     "data": {
      "image/png": "[encoded data removed]",
      "text/plain": [
       "Plot with title \"CLUSPLOT( interp[1:2] )\""
      ]
     },
     "metadata": {},
     "output_type": "display_data"
    }
   ],
   "source": [
    "clusplot(interp[1:2], km$cluster, color=TRUE, shade=TRUE, \n",
    "         labels=2, lines=0)"
   ]
  },
  {
   "cell_type": "markdown",
   "metadata": {},
   "source": [
    "Grâce à la méthode vue précédemment, nous pouvons ajouter plus de détail à nos interprétations précédentes :\n",
    "- Groupe 1 (child, class2, female, **survived**) : Grâce à l'ajout de **survived** dans le groupe 1 nous pouvons imaginer que une grande partie des femmes et des enfants ont survécu, ce qui laisse pensé qu'ils ont été évacué en premier.\n",
    "- Groupe 3 (class3, youngAdult, male, **died**) : Grâce à l'ajout de **died** dans le groupe 3, nous pouvons déjà imaginer qu'une grosse partie des individus de class3 (*les plus pauvres*), sont mort. Ces individus sont majoritairement des jeunes hommes.\n",
    "- Groupe 2 (adult, class1, old) : Les variables qui nous intéressent ne font pas partie de ce groupe, ce qui laisse penser qu'ils n'ont pas vraiment d'impact sur les variables non-survivant et survivant. On peut donc penser que les individus liés à ces variables sont répartit de façon plutôt entre survivant et non-survivant.\n",
    "\n",
    "Nous pouvons enfin voir que beaucoup de nos hypothèses qui ont été faites dans la partie exploration de données sembles se confirmer ici."
   ]
  }
 ],
 "metadata": {
  "kernelspec": {
   "display_name": "R",
   "language": "R",
   "name": "ir"
  },
  "language_info": {
   "codemirror_mode": "r",
   "file_extension": ".r",
   "mimetype": "text/x-r-source",
   "name": "R",
   "pygments_lexer": "r",
   "version": "3.6.1"
  },
  "toc": {
   "base_numbering": 1,
   "nav_menu": {},
   "number_sections": false,
   "sideBar": false,
   "skip_h1_title": true,
   "title_cell": "Table of Contents",
   "title_sidebar": "Contents",
   "toc_cell": true,
   "toc_position": {},
   "toc_section_display": false,
   "toc_window_display": false
  },
  "varInspector": {
   "cols": {
    "lenName": 16,
    "lenType": 16,
    "lenVar": 40
   },
   "kernels_config": {
    "python": {
     "delete_cmd_postfix": "",
     "delete_cmd_prefix": "del ",
     "library": "var_list.py",
     "varRefreshCmd": "print(var_dic_list())"
    },
    "r": {
     "delete_cmd_postfix": ") ",
     "delete_cmd_prefix": "rm(",
     "library": "var_list.r",
     "varRefreshCmd": "cat(var_dic_list()) "
    }
   },
   "types_to_exclude": [
    "module",
    "function",
    "builtin_function_or_method",
    "instance",
    "_Feature"
   ],
   "window_display": false
  }
 },
 "nbformat": 4,
 "nbformat_minor": 2
}
